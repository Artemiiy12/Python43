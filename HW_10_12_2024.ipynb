{
 "cells": [
  {
   "cell_type": "code",
   "execution_count": 11,
   "metadata": {},
   "outputs": [
    {
     "name": "stdout",
     "output_type": "stream",
     "text": [
      "[1, 6, 3, 7, 9, 6, 2, 8, 1, 5]\n"
     ]
    }
   ],
   "source": [
    "# Сформировать третий список, содержащий элементы обоих списков;\n",
    "list1 = [1,6,3,7,9]\n",
    "list2 = [6,2,8,1,5]\n",
    "list3 = list1 + list2\n",
    "print(list3)"
   ]
  },
  {
   "cell_type": "code",
   "execution_count": 10,
   "metadata": {},
   "outputs": [
    {
     "name": "stdout",
     "output_type": "stream",
     "text": [
      "[1, 2, 3, 5, 6, 7, 8, 9]\n"
     ]
    }
   ],
   "source": [
    "# Сформировать третий список, содержащий элементы обоих списков без повторений;\n",
    "list1 = [1,6,3,7,9]\n",
    "list2 = [6,2,8,1,5]\n",
    "list3 = list(set(list1 + list2))\n",
    "print(list3) "
   ]
  },
  {
   "cell_type": "code",
   "execution_count": 9,
   "metadata": {},
   "outputs": [
    {
     "name": "stdout",
     "output_type": "stream",
     "text": [
      "[1, 6]\n"
     ]
    }
   ],
   "source": [
    "# Сформировать третий список, содержащий элементы общие для двух списков;\n",
    "list1 = [1,6,3,7,9]\n",
    "list2 = [6,2,8,1,5]\n",
    "list3 = list(set(list1).intersection(set(list2)))\n",
    "print(list3)"
   ]
  },
  {
   "cell_type": "code",
   "execution_count": 8,
   "metadata": {},
   "outputs": [
    {
     "name": "stdout",
     "output_type": "stream",
     "text": [
      "([9, 3, 7], [8, 2, 5])\n"
     ]
    }
   ],
   "source": [
    "# 4 Сформировать третий список, содержащий только уникальные элементы каждого из списков  \n",
    "list1 = [1,6,3,7,9]\n",
    "list2 = [6,2,8,1,5]\n",
    "\n",
    "list3 =list(set(list1) - set(list2)), list(set(list2) - set(list1))\n",
    "print(list3)"
   ]
  },
  {
   "cell_type": "code",
   "execution_count": 2,
   "metadata": {},
   "outputs": [
    {
     "name": "stdout",
     "output_type": "stream",
     "text": [
      "[1, 8, 1, 9]\n"
     ]
    }
   ],
   "source": [
    "# Сформировать третий список, содержащий только минимальное и максимальное значение каждого изсписков.\n",
    "list1 = [1,6,3,7,9]\n",
    "list2 = [6,2,8,1,5]\n",
    "\n",
    "list3 = [min(list2),max(list2),min(list1),max(list1)]\n",
    "print(list3)"
   ]
  }
 ],
 "metadata": {
  "kernelspec": {
   "display_name": "Python 3",
   "language": "python",
   "name": "python3"
  },
  "language_info": {
   "codemirror_mode": {
    "name": "ipython",
    "version": 3
   },
   "file_extension": ".py",
   "mimetype": "text/x-python",
   "name": "python",
   "nbconvert_exporter": "python",
   "pygments_lexer": "ipython3",
   "version": "3.12.6"
  }
 },
 "nbformat": 4,
 "nbformat_minor": 2
}
