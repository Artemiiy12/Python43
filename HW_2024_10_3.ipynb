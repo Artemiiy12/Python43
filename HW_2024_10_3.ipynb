{
 "cells": [
  {
   "cell_type": "code",
   "execution_count": 4,
   "metadata": {},
   "outputs": [
    {
     "name": "stdout",
     "output_type": "stream",
     "text": [
      "2\n",
      "3\n",
      "5\n",
      "7\n"
     ]
    }
   ],
   "source": [
    "def is_prostoe(n): \n",
    "    if n < 2: \n",
    "        return False \n",
    "    for i in range(2, int(n ** 0.5) + 1): \n",
    "        if n % i == 0: \n",
    "            return False \n",
    "    return True \n",
    "\n",
    "start = int(input(\"Введите первое число,начало диапазона: \")) \n",
    "end = int(input(\"Введите второе число,конец диапазона: \")) \n",
    "\n",
    "for i in range(start, end + 1): \n",
    "    if is_prostoe(i): \n",
    "        print(i)"
   ]
  },
  {
   "cell_type": "code",
   "execution_count": null,
   "metadata": {},
   "outputs": [],
   "source": [
    "for i in range(1, 11): \n",
    "    for j in range(1, 11):\n",
    "        print(i * j, end=\"\\t\")\n",
    "    print('\\n')"
   ]
  },
  {
   "cell_type": "code",
   "execution_count": null,
   "metadata": {},
   "outputs": [],
   "source": [
    "num1= int(input(\"Введите 1 число\"))\n",
    "num2 =int(input(\"Введите 2 число\"))\n",
    "for i in range(num1, num2 + 1):\n",
    "    for j in range(1,11):\n",
    "        result = i * j\n",
    "        print(f'{i} *{j} = {result}')\n",
    "    print('')"
   ]
  }
 ],
 "metadata": {
  "kernelspec": {
   "display_name": "Python 3",
   "language": "python",
   "name": "python3"
  },
  "language_info": {
   "codemirror_mode": {
    "name": "ipython",
    "version": 3
   },
   "file_extension": ".py",
   "mimetype": "text/x-python",
   "name": "python",
   "nbconvert_exporter": "python",
   "pygments_lexer": "ipython3",
   "version": "3.12.6"
  }
 },
 "nbformat": 4,
 "nbformat_minor": 2
}
