{
 "cells": [
  {
   "cell_type": "code",
   "execution_count": 7,
   "metadata": {},
   "outputs": [
    {
     "name": "stdout",
     "output_type": "stream",
     "text": [
      "1\n",
      "2\n",
      "3\n",
      "5\n",
      "8\n",
      "13\n",
      "21\n",
      "34\n",
      "55\n",
      "89\n",
      "144\n",
      "233\n",
      "377\n",
      "610\n",
      "987\n",
      "1597\n",
      "2584\n",
      "4181\n",
      "6765\n",
      "10946\n",
      "17711\n",
      "28657\n",
      "46368\n",
      "75025\n",
      "121393\n",
      "196418\n",
      "317811\n",
      "514229\n",
      "832040\n",
      "1346269\n",
      "2178309\n",
      "3524578\n",
      "5702887\n",
      "9227465\n",
      "14930352\n",
      "24157817\n",
      "39088169\n",
      "63245986\n",
      "102334155\n",
      "165580141\n",
      "267914296\n",
      "433494437\n",
      "701408733\n",
      "1134903170\n",
      "1836311903\n",
      "2971215073\n",
      "4807526976\n",
      "7778742049\n"
     ]
    }
   ],
   "source": [
    "# 1. Числа Фибоначчи: Напишите программу, которая выводит первые 50 чисел Фибоначчи.\n",
    "# Напоминаем, что ряд Фибоначчи начинается с чисел 0 и 1, а каждое последующее число равно сумме двух предыдущих.\n",
    "\n",
    "fibonachi = 0\n",
    "fiboncahi1 = 1      \n",
    "n = 50\n",
    "for i in range (n - 2):\n",
    "    fibonachi, fiboncahi1 = fiboncahi1, fibonachi + fiboncahi1\n",
    "    print(fiboncahi1)"
   ]
  },
  {
   "cell_type": "code",
   "execution_count": 37,
   "metadata": {},
   "outputs": [
    {
     "name": "stdout",
     "output_type": "stream",
     "text": [
      "7\n"
     ]
    }
   ],
   "source": [
    "# 2. Сумма цифр: Напишите программу, которая принимает на вход натуральное число и вычисляет сумму его цифр.\n",
    "\n",
    "num = (input('Введите ваше натуральное число'))\n",
    "summa = 0\n",
    "for i in num:\n",
    "        summa += int(i)\n",
    "\n",
    "print(summa)"
   ]
  },
  {
   "cell_type": "code",
   "execution_count": 26,
   "metadata": {},
   "outputs": [
    {
     "name": "stdout",
     "output_type": "stream",
     "text": [
      "Загаданное число больше чем 50\n",
      "Загаданное число больше чем 70\n",
      "Загаданное число меньше чем 90\n",
      "Загаданное число больше чем 80\n",
      "Загаданное число меньше чем 85\n",
      "Загаданное число меньше чем 84\n",
      "Загаданное число меньше чем 82\n",
      "вы угадали! 81 \n",
      "Количество попыток 8\n"
     ]
    }
   ],
   "source": [
    "# Игра \"Угадай число\": Напишите программу, которая \"загадывает\" случайное число от 1 до 100 и предлагает пользователю его угадать.\n",
    "#После каждого ввода числа программа должна сообщать, больше загаданное число, меньше или равно.\n",
    "#Игра продолжается, пока пользователь не угадает число.\n",
    "#В конце игры программа должна вывести количество попыток.\n",
    "\n",
    "import random\n",
    "\n",
    "list0 = random.randint(1,100)\n",
    "\n",
    "count = 0\n",
    "\n",
    "while True:\n",
    "    usernum = int(input('Cыграй в игру Угадай число от 1 до 100'))\n",
    "    if usernum > list0:\n",
    "        print(f'Загаданное число меньше чем {usernum}')\n",
    "        count += 1\n",
    "        \n",
    "    elif usernum < list0:\n",
    "        print(f'Загаданное число больше чем {usernum}')\n",
    "        count += 1\n",
    "        \n",
    "    else:\n",
    "        print(f\"вы угадали! {usernum} \")\n",
    "        count += 1\n",
    "        \n",
    "        break\n",
    "print(f'Количество поптыок {count}')"
   ]
  },
  {
   "cell_type": "code",
   "execution_count": 31,
   "metadata": {},
   "outputs": [
    {
     "name": "stdout",
     "output_type": "stream",
     "text": [
      "******************************\n",
      "*                            *\n",
      "*                            *\n",
      "*                            *\n",
      "*                            *\n",
      "*                            *\n",
      "*                            *\n",
      "*                            *\n",
      "*                            *\n",
      "*                            *\n",
      "*                            *\n",
      "*                            *\n",
      "*                            *\n",
      "*                            *\n",
      "*                            *\n",
      "*                            *\n",
      "*                            *\n",
      "*                            *\n",
      "*                            *\n",
      "******************************\n"
     ]
    }
   ],
   "source": [
    "# Звездочки: Напишите программу, которая рисует прямоугольник из звездочек, используя циклы.\n",
    "#Пользователь вводит высоту и ширину прямоугольника.\n",
    "\n",
    "a = int(input('a '))\n",
    "b = int(input('b '))\n",
    "\n",
    "for i in range(1, a + 1):\n",
    "    if i == 1 or i == a:\n",
    "        print('*' * b)\n",
    "    else:\n",
    "        print('*' + ' ' * (b- 2) + '*')"
   ]
  },
  {
   "cell_type": "code",
   "execution_count": 38,
   "metadata": {},
   "outputs": [
    {
     "name": "stdout",
     "output_type": "stream",
     "text": [
      "3628800\n"
     ]
    }
   ],
   "source": [
    "# Факториал: Напишите программу, которая вычисляет факториал заданного пользователем числа.\n",
    "# Факториал числа n (обозначается n!) — это произведение всех натуральных чисел от 1 до n.\n",
    "# Использовать функцию factorial() из библиотеки math запрещается!\n",
    "\n",
    "number = int(input(''))\n",
    "\n",
    "factorial = 1\n",
    "\n",
    "for i in range(2, number + 1):\n",
    "    factorial *= i\n",
    "\n",
    "print(factorial)"
   ]
  }
 ],
 "metadata": {
  "kernelspec": {
   "display_name": "Python 3",
   "language": "python",
   "name": "python3"
  },
  "language_info": {
   "codemirror_mode": {
    "name": "ipython",
    "version": 3
   },
   "file_extension": ".py",
   "mimetype": "text/x-python",
   "name": "python",
   "nbconvert_exporter": "python",
   "pygments_lexer": "ipython3",
   "version": "3.12.6"
  }
 },
 "nbformat": 4,
 "nbformat_minor": 2
}
