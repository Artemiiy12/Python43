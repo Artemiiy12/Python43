{
 "cells": [
  {
   "cell_type": "code",
   "execution_count": 22,
   "metadata": {},
   "outputs": [
    {
     "name": "stdout",
     "output_type": "stream",
     "text": [
      "вы выбрали умножение:30.0\n"
     ]
    }
   ],
   "source": [
    "a = float(input('Введите 1 число:'))\n",
    "b = float(input('Введите 2 число:'))\n",
    "c = float(input('Введите 3 число:'))\n",
    "\n",
    "d = input(\"Введите  + для сложения или * для умножения): \")\n",
    "if d =='+':\n",
    "    result = a + b + c \n",
    "    print(f'вы выбрали сложениe:{result}')\n",
    "elif d == '*':\n",
    "    result = a * b * c\n",
    "    print(f'вы выбрали умножение:{result}')\n",
    "else:\n",
    "    print('Вы выбрали не то')\n",
    "    \n"
   ]
  },
  {
   "cell_type": "code",
   "execution_count": 33,
   "metadata": {},
   "outputs": [
    {
     "name": "stdout",
     "output_type": "stream",
     "text": [
      "среднее арифметическое 4.0\n"
     ]
    }
   ],
   "source": [
    "a = float(input('Введите 1 число:'))\n",
    "b = float(input('Введите 2 число:'))\n",
    "c = float(input('Введите 3 число:'))\n",
    "\n",
    "d = input('Введите max - максимум,min - минимум,sred - среднее арифметическое')\n",
    "\n",
    "if d =='max':\n",
    "    result = max(a, b, c)\n",
    "    print(f'Максимальное из трех чисел {result}')\n",
    "elif d =='min':\n",
    "    result = min(a, b, c)\n",
    "    print(f'Минимальное из трех чисел {result}')\n",
    "elif d == 'sred':\n",
    "    result = (a + b + c / 3)\n",
    "    print(f'среднее арифметическое {result}')\n",
    "else:\n",
    "    print('Вы выбрали не то')\n",
    "    "
   ]
  },
  {
   "cell_type": "code",
   "execution_count": 35,
   "metadata": {},
   "outputs": [
    {
     "name": "stdout",
     "output_type": "stream",
     "text": [
      "Вы перевели метры в мили: 0.000621371\n"
     ]
    }
   ],
   "source": [
    "m = float(input('Введите колличество метров'))\n",
    "\n",
    "a = input('Выберите во что перевести метры:в мили-mili,в дюймы-duim,в ярды-yards')\n",
    "\n",
    "if a =='mili':\n",
    "    result = (m * 0.000621371)\n",
    "    print(f'Вы перевели метры в мили: {result}')\n",
    "elif a =='duim':\n",
    "    reslut = (m * 39.3701 )\n",
    "    print(f'Вы перевели метры в дюймы:{result}')\n",
    "elif a == 'yards':\n",
    "    result = (m * 1.09361)\n",
    "    print(f'Вы первели метры в ярды:{result}')\n",
    "else:\n",
    "    print('Вы ввели не то')"
   ]
  }
 ],
 "metadata": {
  "kernelspec": {
   "display_name": "Python 3",
   "language": "python",
   "name": "python3"
  },
  "language_info": {
   "codemirror_mode": {
    "name": "ipython",
    "version": 3
   },
   "file_extension": ".py",
   "mimetype": "text/x-python",
   "name": "python",
   "nbconvert_exporter": "python",
   "pygments_lexer": "ipython3",
   "version": "3.12.6"
  }
 },
 "nbformat": 4,
 "nbformat_minor": 2
}
