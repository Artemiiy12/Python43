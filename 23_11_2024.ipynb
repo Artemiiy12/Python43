{
 "cells": [
  {
   "cell_type": "code",
   "execution_count": 2,
   "metadata": {},
   "outputs": [
    {
     "name": "stdout",
     "output_type": "stream",
     "text": [
      "Отсортированый список: [4, 7, 12, 13, 15, 32, 42, 49, 50, 52, 56, 58, 63, 64, 72, 78, 80, 89, 91, 98]\n",
      "Число которое вы ищете: 4\n",
      "Индекс 0\n"
     ]
    }
   ],
   "source": [
    "# Задание 1\n",
    "# Есть четыре списка целых. Необходимо их объединить\n",
    "# в пятом списке. Полученный результат в зависимости от\n",
    "# выбора пользователя отсортировать по убыванию или\n",
    "# возрастанию. Найти значение, введенное пользователем,\n",
    "# с использованием линейного поиска.\n",
    "def linear_search(arr, target):\n",
    "    for i in range(len(arr)):\n",
    "        if arr[i] == target:\n",
    "            return i\n",
    "    return -1\n",
    "from random import randint\n",
    "\n",
    "def main():\n",
    "    lst1 = [randint(1, 100) for _ in range(5)]\n",
    "    lst2 = [randint(1, 100) for _ in range(5)]\n",
    "    lst3 = [randint(1, 100) for _ in range(5)]\n",
    "    lst4 = [randint(1, 100) for _ in range(5)]\n",
    "    \n",
    "    lst5 = list(set(lst1 + lst2 + lst3 + lst4))\n",
    "    \n",
    "    user_sort = input('введите 0 для сортировки по возрастанию, 1 для сортировки по убыванию ')\n",
    "    if user_sort == '0':\n",
    "        lst5.sort()  \n",
    "    elif user_sort == '1':\n",
    "        lst5.sort(reverse=True) \n",
    "    else:\n",
    "        print(\"Вы ввели не то.\")\n",
    "    \n",
    "    print(\"Отсортированый список:\",lst5)\n",
    "    \n",
    "    user_num = int(input(\"Введите значение для поиска: \"))\n",
    "    print('Число которое вы ищете:',user_num)\n",
    "    print('Индекс',linear_search(lst5,user_num))\n",
    "    \n",
    "\n",
    "\n",
    "if __name__ == \"__main__\":\n",
    "    main()"
   ]
  }
 ],
 "metadata": {
  "kernelspec": {
   "display_name": "Python 3",
   "language": "python",
   "name": "python3"
  },
  "language_info": {
   "codemirror_mode": {
    "name": "ipython",
    "version": 3
   },
   "file_extension": ".py",
   "mimetype": "text/x-python",
   "name": "python",
   "nbconvert_exporter": "python",
   "pygments_lexer": "ipython3",
   "version": "3.12.6"
  }
 },
 "nbformat": 4,
 "nbformat_minor": 2
}
