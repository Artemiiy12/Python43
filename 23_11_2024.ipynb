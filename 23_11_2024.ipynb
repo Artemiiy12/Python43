{
 "cells": [
  {
   "cell_type": "code",
   "execution_count": null,
   "metadata": {},
   "outputs": [
    {
     "name": "stdout",
     "output_type": "stream",
     "text": [
      "Отсортированый список: [97, 91, 83, 78, 77, 71, 68, 59, 50, 48, 42, 36, 31, 27, 23, 22, 22, 17, 16, 3]\n",
      "ваше значение 97\n"
     ]
    }
   ],
   "source": [
    "# Задание 1\n",
    "# Есть четыре списка целых. Необходимо их объединить\n",
    "# в пятом списке. Полученный результат в зависимости от\n",
    "# выбора пользователя отсортировать по убыванию или\n",
    "# возрастанию. Найти значение, введенное пользователем,\n",
    "# с использованием линейного поиска.\n",
    "\n",
    "from random import randint\n",
    "\n",
    "def main():\n",
    "    lst1 = [randint(1, 100) for _ in range(5)]\n",
    "    lst2 = [randint(1, 100) for _ in range(5)]\n",
    "    lst3 = [randint(1, 100) for _ in range(5)]\n",
    "    lst4 = [randint(1, 100) for _ in range(5)]\n",
    "    \n",
    "    lst5 = list(set(lst1 + lst2 + lst3 + lst4))\n",
    "    \n",
    "    user_sort = input('введите 0 для сортировки по возрастанию, 1 для сортировки по убыванию ')\n",
    "    if user_sort == '0':\n",
    "        lst5.sort()  \n",
    "    elif user_sort == '1':\n",
    "        lst5.sort(reverse=True) \n",
    "    else:\n",
    "        print(\"Вы ввели не то.\")\n",
    "    \n",
    "    print(\"Отсортированый список:\",lst5)\n",
    "    \n",
    "    user_num = int(input(\"Введите значение для поиска: \"))\n",
    "    \n",
    "\n",
    "\n",
    "\n",
    "    if user_num in lst5:  \n",
    "        index = lst5.index(user_num)\n",
    "        print(f'Индекс вашего значения: {index}')\n",
    "    else:\n",
    "        print(\"Элемент не найден в списке.\")\n",
    "            \n",
    "\n",
    "\n",
    "if name == \"main\":\n",
    "    main()"
   ]
  }
 ],
 "metadata": {
  "kernelspec": {
   "display_name": "Python 3",
   "language": "python",
   "name": "python3"
  },
  "language_info": {
   "codemirror_mode": {
    "name": "ipython",
    "version": 3
   },
   "file_extension": ".py",
   "mimetype": "text/x-python",
   "name": "python",
   "nbconvert_exporter": "python",
   "pygments_lexer": "ipython3",
   "version": "3.12.6"
  }
 },
 "nbformat": 4,
 "nbformat_minor": 2
}
