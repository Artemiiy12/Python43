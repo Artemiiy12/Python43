{
 "cells": [
  {
   "cell_type": "markdown",
   "metadata": {},
   "source": [
    "### Сортировка файлов по размеру\n",
    "\n",
    "Напишите программу, которая сортирует файлы в данной директории по размеру (от меньшего к большему). Для этого неплохо было бы несколько файлов или создать вручную, если в директории с этой тетрадкой кроме нее ничего нет, либо перенести несколько случайных файлов в нее, после чего можно будет проверить работу кода. По итогу вы должны вывести список файлов директории с заданным ранее условием"
   ]
  },
  {
   "cell_type": "code",
   "execution_count": null,
   "metadata": {},
   "outputs": [],
   "source": [
    "# ваш код тут\n",
    "import os\n",
    "\n",
    "path = r\"C:\\Users\\Artemiy\\Downloads\"\n",
    "print((os.listdir(path)))  \n",
    "print(sorted(os.listdir(path))) "
   ]
  },
  {
   "cell_type": "markdown",
   "metadata": {},
   "source": [
    "### Создание директорий\n",
    "\n",
    "Напишите программу, которая создает серию вложенных директорий с использованием цикла. Например, создать директорию \"А\", в которой будет лежать директория \"B\", в которой будет лежать директория \"C\" (названия директорий латиницей). В конце вы должны вывести, что содержится в каждой из этих директорий"
   ]
  },
  {
   "cell_type": "code",
   "execution_count": 1,
   "metadata": {},
   "outputs": [
    {
     "name": "stdout",
     "output_type": "stream",
     "text": [
      "c:\\Users\\gdbal\\Downloads\n",
      "каталог: .\\A\n",
      "каталог: .\\A\\B\n",
      "каталог: .\\A\\B\\C\n"
     ]
    }
   ],
   "source": [
    "\n",
    "import os\n",
    "\n",
    "os.mkdir('directory2')\n",
    "print(os.getcwd())\n",
    "os.chdir('directory2')\n",
    "os.makedirs('A/B/C')\n",
    "\n",
    "for dirpach, dirnames, filenames, in os.walk('.'):\n",
    "   for dirname in dirnames:\n",
    "      print(\"каталог:\", os.path.join(dirpach,dirname))\n",
    "   for filenames in filenames:\n",
    "      print('Файл:', os.path.join(dirpach))\n"
   ]
  },
  {
   "cell_type": "markdown",
   "metadata": {},
   "source": [
    "### Поиск файлов по расширению\n",
    "\n",
    "Напишите программу, которая выводит имена всех файлов с расширением, например, \".txt\" в определенной директории и всех поддиректориях"
   ]
  },
  {
   "cell_type": "code",
   "execution_count": null,
   "metadata": {},
   "outputs": [],
   "source": [
    "# ваш код тут\n",
    "import os\n",
    "\n",
    "def find_files_with_extension(directory, extension):\n",
    "    for root, dirs, files in os.walk(directory):\n",
    "        for file in files:\n",
    "            if file.endswith(extension):\n",
    "                full_path = os.path.join(root, file)\n",
    "                print(full_path)\n",
    "\n",
    "dir_path = r\"C:\\Users\\Artemiy\\Downloads\" \n",
    "file_extension = '.mp4' \n",
    "\n",
    "find_files_with_extension(dir_path, file_extension)"
   ]
  },
  {
   "cell_type": "markdown",
   "metadata": {},
   "source": [
    "### Получение информации о файле\n",
    "\n",
    "Напишите программу, которая выводит информацию о файле: имя, размер, дату модификации, тип файла (файл/директория)"
   ]
  },
  {
   "cell_type": "code",
   "execution_count": 1,
   "metadata": {},
   "outputs": [
    {
     "name": "stdout",
     "output_type": "stream",
     "text": [
      "os.stat_result(st_mode=33206, st_ino=56857945295730063, st_dev=15572939017890652196, st_nlink=1, st_uid=0, st_gid=0, st_size=0, st_atime=1728130222, st_mtime=1728130222, st_ctime=1728130222)\n",
      "['text.txt']\n",
      "c:\\Users\\gdbal\\Downloads\\directory3\n"
     ]
    }
   ],
   "source": [
    "# ваш код тут\n",
    "import os\n",
    "os.mkdir('directory3')\n",
    "os.chdir('directory3')\n",
    "file = open('text.txt','w')\n",
    "file.write('Это текстовый файл')\n",
    "print(os.stat('text.txt'))\n",
    "print(os.listdir())\n",
    "print(os.getcwd())\n",
    "\n"
   ]
  },
  {
   "cell_type": "markdown",
   "metadata": {},
   "source": [
    "### Проверка e-mail адреса\n",
    "\n",
    "Напишите программу, которая запрашивает у пользователя ввести e-mail адрес и проверяет введенную строку с помощью регулярных выражений, является ли она типовым e-mail адресом. В случае, если да, программа должны вывести \"Всё верно\", если же нет, то \"Вы допустили ошибку в e-mail адресе\""
   ]
  },
  {
   "cell_type": "code",
   "execution_count": 19,
   "metadata": {},
   "outputs": [
    {
     "name": "stdout",
     "output_type": "stream",
     "text": [
      "False\n"
     ]
    }
   ],
   "source": [
    "# ваш код тут\n",
    "import re\n",
    "\n",
    "pattern = re.compile(r\"^\\S+@\\S+.$\")\n",
    "\n",
    "\n",
    "is_valid = pattern.match(input('Введите e-mail')) \n",
    "print(is_valid is not None)\n",
    "\n",
    "\n",
    "\n"
   ]
  }
 ],
 "metadata": {
  "kernelspec": {
   "display_name": "Python 3",
   "language": "python",
   "name": "python3"
  },
  "language_info": {
   "codemirror_mode": {
    "name": "ipython",
    "version": 3
   },
   "file_extension": ".py",
   "mimetype": "text/x-python",
   "name": "python",
   "nbconvert_exporter": "python",
   "pygments_lexer": "ipython3",
   "version": "3.12.6"
  }
 },
 "nbformat": 4,
 "nbformat_minor": 2
}
