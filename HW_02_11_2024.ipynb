{
 "cells": [
  {
   "cell_type": "code",
   "execution_count": null,
   "metadata": {},
   "outputs": [
    {
     "name": "stdout",
     "output_type": "stream",
     "text": [
      "24\n"
     ]
    }
   ],
   "source": [
    "# Задание 1\n",
    "# Напишите функцию, вычисляющую произведение\n",
    "# элементов списка целых. Список передаётся в качестве па-\n",
    "# раметра. Полученный результат возвращается из функции.\n",
    "\n",
    "def elements(int_list):\n",
    "    \n",
    "    product = 1\n",
    "\n",
    "    for num in int_list:\n",
    "        product *= num\n",
    "\n",
    "    return product\n",
    "\n",
    "numbers = [1, 2, 3, 4]\n",
    "result = elements(numbers)\n",
    "print(result)"
   ]
  },
  {
   "cell_type": "code",
   "execution_count": null,
   "metadata": {},
   "outputs": [
    {
     "name": "stdout",
     "output_type": "stream",
     "text": [
      "1\n"
     ]
    }
   ],
   "source": [
    "# Напишите функцию для нахождения минимума в\n",
    "# списке целых. Список передаётся в качестве параметра.\n",
    "# Полученный результат возвращается из функции.\n",
    "\n",
    "def find_minimum(int_list):\n",
    "    if not int_list:\n",
    "        return None  \n",
    "\n",
    "    minimum = int_list[0]\n",
    "\n",
    "    for num in int_list:\n",
    "        if num < minimum:\n",
    "            minimum = num\n",
    "\n",
    "    return minimum\n",
    "\n",
    "numbers = [5, 3, 8, 1, 4]\n",
    "result = find_minimum(numbers)\n",
    "print(result) "
   ]
  },
  {
   "cell_type": "code",
   "execution_count": 26,
   "metadata": {},
   "outputs": [
    {
     "name": "stdout",
     "output_type": "stream",
     "text": [
      "2\n"
     ]
    }
   ],
   "source": [
    "# Напишите функцию, определяющую количество про-\n",
    "# стых чисел в списке целых. Список передаётся в качестве\n",
    "# параметра. Полученный результат возвращается из функции.\n",
    "def num_1(*args):\n",
    "    count = 0\n",
    "    for num in args:\n",
    "        if num < 2:\n",
    "            continue\n",
    "        else:\n",
    "            for i in range(2, num):\n",
    "                if num % i == 0:\n",
    "                    break\n",
    "            else:\n",
    "                count += 1\n",
    "    return count\n",
    "print(num_1(10,2,3,4,6))"
   ]
  },
  {
   "cell_type": "code",
   "execution_count": 27,
   "metadata": {},
   "outputs": [
    {
     "name": "stdout",
     "output_type": "stream",
     "text": [
      "4\n"
     ]
    }
   ],
   "source": [
    "# Задание 4\n",
    "# Напишите функцию, удаляющую из списка целых\n",
    "# некоторое заданное число. Из функции нужно вернуть\n",
    "# количество удаленных элементов.\n",
    "\n",
    "def f(n, l):\n",
    "    r = len(l) \n",
    "    while True:\n",
    "        if l.count(n) == 0:\n",
    "            break  \n",
    "        l.remove(n) \n",
    "\n",
    "    return r - len(l)  \n",
    "print(f(5, [2, 3, 5, 5, 5, 9, 5, 8, 7]))\n",
    "    "
   ]
  },
  {
   "cell_type": "code",
   "execution_count": 29,
   "metadata": {},
   "outputs": [
    {
     "name": "stdout",
     "output_type": "stream",
     "text": [
      "[1, 2, 3, 4, 5, 6]\n"
     ]
    }
   ],
   "source": [
    "# Задание 5\n",
    "# Напишите функцию, которая получает два списка в\n",
    "# качестве параметра и возвращает список, содержащий\n",
    "# элементы обоих списков.\n",
    "\n",
    "def merge_lists(list1, list2):\n",
    "    return list1 + list2  \n",
    "\n",
    "list_a = [1, 2, 3]\n",
    "list_b = [4, 5, 6]\n",
    "result = merge_lists(list_a, list_b)\n",
    "print(result)"
   ]
  }
 ],
 "metadata": {
  "kernelspec": {
   "display_name": "Python 3",
   "language": "python",
   "name": "python3"
  },
  "language_info": {
   "codemirror_mode": {
    "name": "ipython",
    "version": 3
   },
   "file_extension": ".py",
   "mimetype": "text/x-python",
   "name": "python",
   "nbconvert_exporter": "python",
   "pygments_lexer": "ipython3",
   "version": "3.12.6"
  }
 },
 "nbformat": 4,
 "nbformat_minor": 2
}
