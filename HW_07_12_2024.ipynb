{
 "cells": [
  {
   "cell_type": "code",
   "execution_count": 58,
   "metadata": {},
   "outputs": [
    {
     "name": "stdout",
     "output_type": "stream",
     "text": [
      "['brawl stars\\n', 'standoff2\\n', 'pudge']\n",
      "['brawl stars\\n', 'cs2\\n', 'pudge']\n",
      "Несовпадающая строка из file1: standoff2\n",
      "\n",
      "Несовпадающая строка из file2: cs2\n",
      "\n"
     ]
    }
   ],
   "source": [
    "# Задание 1\n",
    "# Дано два текстовых файла. Выяснить, совпадают ли\n",
    "# их строки. Если нет, то вывести несовпадающую строку\n",
    "# из каждого файла.\n",
    "try:\n",
    "    with open('file1.txt', encoding ='utf-8') as file:\n",
    "        r1 = file.readlines()\n",
    "        print(r1)\n",
    "        \n",
    "    with open('file2.txt', encoding ='utf-8') as file:\n",
    "        r2 = file.readlines()\n",
    "        print(r2)\n",
    "except:\n",
    "    pass \n",
    "\n",
    "for i in r1:\n",
    "    if i not in r2:\n",
    "        print(f'Несовпадающая строка из file1: {i}')\n",
    "\n",
    "for i in r2:\n",
    "    if i not in r1:\n",
    "        print(f'Несовпадающая строка из file2: {i}')"
   ]
  },
  {
   "cell_type": "code",
   "execution_count": 56,
   "metadata": {},
   "outputs": [
    {
     "name": "stdout",
     "output_type": "stream",
     "text": [
      "['brawl stars\\n', 'standoff2\\n', 'pudge']\n",
      "Количество символов: 27\n",
      "Количество строк 3\n",
      "Количество гласных 0\n",
      "Количество согласных 0\n",
      "Количество цифр 1\n"
     ]
    }
   ],
   "source": [
    "# Задание 2\n",
    "# Дан текстовый файл. Необходимо создать новый файл\n",
    "# и записать в него следующую статистику по исходному\n",
    "# файлу:\n",
    "# ■ Количество символов;\n",
    "# ■ Количество строк;\n",
    "# ■ Количество гласных букв;\n",
    "# ■ Количество согласных букв;\n",
    "# ■ Количество цифр.\n",
    "try:\n",
    "    with open('file1.txt', encoding ='utf-8') as file:\n",
    "        r1 = file.read()\n",
    "        r1 = len(r1)\n",
    "    with open('file1.txt', encoding ='utf-8') as file:\n",
    "        r2 = file.readlines()\n",
    "        r2 = len(r2)\n",
    "    with open('file1.txt', encoding ='utf-8') as file:\n",
    "        r3 = file.readlines()\n",
    "except: pass\n",
    "\n",
    "vse_sogl = ['б', 'в', 'г', 'д', 'ж', 'з', 'й', 'к', 'л', 'м', 'н', 'п', 'р', 'с', 'т', 'ф', 'х', 'ц', \"ч\", 'ш', 'щ']\n",
    "vse_gls = [\"а\", \"е\", \"ё\", \"и\", \"о\", \"у\", \"ы\", \"э\", \"ю\", \"я\"]\n",
    "all_numbers = ['1', '2', '3', '4', '5', '6', '7', '8', '9', '0']\n",
    "c = 0\n",
    "d = 0\n",
    "n = 0\n",
    "for i in r3:\n",
    "    for j in i:\n",
    "        if j in vse_gls:\n",
    "            c += 1 \n",
    "        elif j in vse_sogl:\n",
    "            d += 1\n",
    "        elif j in all_numbers:\n",
    "            n += 1 \n",
    "print(r3)\n",
    "print(f'Количество символов: {r1}')\n",
    "print(f'Количество строк {r2}')\n",
    "print(f'Количество гласных {c}')\n",
    "print(f'Количество согласных {d}')\n",
    "print(f'Количество цифр {n}')\n",
    "\n",
    "stat = [r1, r2, c, d, n]\n",
    "try:\n",
    "    with open('res.txt', 'w') as file:\n",
    "        file.write('\\n'.join(map(str, stat)))\n",
    "except:\n",
    "    pass"
   ]
  },
  {
   "cell_type": "code",
   "execution_count": 15,
   "metadata": {},
   "outputs": [
    {
     "name": "stdout",
     "output_type": "stream",
     "text": [
      "['brawl stars\\n', 'standoff2\\n', 'pudge\\n']\n",
      "['brawl stars\\n', 'standoff2\\n']\n"
     ]
    }
   ],
   "source": [
    "# Задание 3\n",
    "# Дан текстовый файл. Удалить из него последнюю\n",
    "# строку. Результат записать в другой файл.\n",
    "\n",
    "try:\n",
    "    with open('file1.txt', encoding ='utf-8') as file:\n",
    "        r1 = file.readlines()\n",
    "        print(r1)\n",
    "        r1 = r1[:-1]\n",
    "    with open('file3.txt','w',encoding ='utf-8') as file:\n",
    "        file.writelines(r1)\n",
    "except:pass\n",
    "print(r1)\n"
   ]
  },
  {
   "cell_type": "code",
   "execution_count": 27,
   "metadata": {},
   "outputs": [
    {
     "name": "stdout",
     "output_type": "stream",
     "text": [
      "['brawl stars\\n', 'standoff2\\n', 'pudge']\n",
      "brawl stars\n",
      "\n"
     ]
    }
   ],
   "source": [
    "# Задание 4\n",
    "# Дан текстовый файл. Найти длину самой длинной\n",
    "# строки.\n",
    "\n",
    "try:\n",
    "    with open('file1.txt', encoding ='utf-8') as file:\n",
    "        r1 = file.readlines()\n",
    "        print(r1)\n",
    "    longest = max(r1,key = len)\n",
    "    print(longest)\n",
    "except:pass"
   ]
  },
  {
   "cell_type": "code",
   "execution_count": 41,
   "metadata": {},
   "outputs": [
    {
     "name": "stdout",
     "output_type": "stream",
     "text": [
      "pudge\n",
      "['brawl stars\\n', 'standoff2\\n', 'pudge']\n",
      "1\n"
     ]
    }
   ],
   "source": [
    "# Задание 5\n",
    "# Дан текстовый файл. Посчитать сколько раз в нем\n",
    "# встречается заданное пользователем слово.\n",
    "user_word = input('Введите слово:')\n",
    "print(user_word)\n",
    "\n",
    "try:\n",
    "    with open('file1.txt', encoding ='utf-8') as file:\n",
    "            s = file.readlines()\n",
    "            print(s)\n",
    "            c = 0\n",
    "            for i in s:\n",
    "                if user_word in i:\n",
    "                        c += 1 \n",
    "except: pass\n",
    "print(c)\n"
   ]
  },
  {
   "cell_type": "code",
   "execution_count": 55,
   "metadata": {},
   "outputs": [
    {
     "name": "stdout",
     "output_type": "stream",
     "text": [
      "pudge lol\n",
      "['brawl stars\\n', 'standoff2\\n', 'lol']\n"
     ]
    }
   ],
   "source": [
    "# Задание 6\n",
    "# Дан текстовый файл. Найти и заменить в нем задан-\n",
    "# ное слово. Что искать и на что заменять определяется\n",
    "# пользователем.\n",
    "user_search = input('Введите слово:')\n",
    "user_replace =  input('На что заменить?')\n",
    "print(user_search,user_replace)\n",
    "try:\n",
    "    with open('file1.txt', encoding ='utf-8') as file:\n",
    "            s = str(file.readlines())\n",
    "            s = s.replace(user_search, user_replace)\n",
    "except: pass\n",
    "print(s)"
   ]
  }
 ],
 "metadata": {
  "kernelspec": {
   "display_name": "Python 3",
   "language": "python",
   "name": "python3"
  },
  "language_info": {
   "codemirror_mode": {
    "name": "ipython",
    "version": 3
   },
   "file_extension": ".py",
   "mimetype": "text/x-python",
   "name": "python",
   "nbconvert_exporter": "python",
   "pygments_lexer": "ipython3",
   "version": "3.12.6"
  }
 },
 "nbformat": 4,
 "nbformat_minor": 2
}
