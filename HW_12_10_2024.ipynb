{
 "cells": [
  {
   "cell_type": "code",
   "execution_count": 50,
   "metadata": {},
   "outputs": [
    {
     "name": "stdout",
     "output_type": "stream",
     "text": [
      "[1, 2, 3, 4, 6, 7, 8, 9]\n"
     ]
    }
   ],
   "source": [
    "# Сформировать третий список, содержащий элементы обоих списков;\n",
    "list1 = [ 1, 3, 6, 4, 9]\n",
    "list2 = [ 4, 2, 8, 7, 3]  \n",
    "\n",
    "list1.extend(list2)\n",
    "list3 = list(set(list1))\n",
    "print(list3)\n",
    "     \n",
    "\n"
   ]
  },
  {
   "cell_type": "code",
   "execution_count": 51,
   "metadata": {},
   "outputs": [
    {
     "name": "stdout",
     "output_type": "stream",
     "text": [
      "[1, 3, 4, 6, 7, 8, 9]\n"
     ]
    }
   ],
   "source": [
    "#Сформировать третий список, содержащий элементы обоих списков без повторений;\n",
    "list1 = [ 1, 3, 6, 4, 9]\n",
    "list2 = [ 4, 6, 8, 7, 3]  \n",
    "\n",
    "list1.extend(list2)\n",
    "\n",
    "list3 = list(set(list1))\n",
    "print(list3)"
   ]
  },
  {
   "cell_type": "code",
   "execution_count": 52,
   "metadata": {},
   "outputs": [
    {
     "name": "stdout",
     "output_type": "stream",
     "text": [
      "[3, 4]\n"
     ]
    }
   ],
   "source": [
    "#Сформировать третий список, содержащий элементы общие для двух списков;\n",
    "list1 = [ 1, 3, 6, 4, 9]\n",
    "list2 = [ 4, 2, 8, 7, 3]  \n",
    "\n",
    "list3 = list(set(list1).intersection(list2))\n",
    "print(list3)"
   ]
  },
  {
   "cell_type": "code",
   "execution_count": 53,
   "metadata": {},
   "outputs": [
    {
     "name": "stdout",
     "output_type": "stream",
     "text": [
      "[1, 6, 9, 2, 8, 7]\n"
     ]
    }
   ],
   "source": [
    "#Сформировать третий список, содержащий только уникальные элементы каждого из списков;\n",
    "from collections import Counter\n",
    "\n",
    "list1 = [ 1, 3, 6, 4, 9]\n",
    "list2 = [ 4, 2, 8, 7, 3]  \n",
    "\n",
    "list3 = list1 + list2\n",
    "list3 = Counter(list3)\n",
    "\n",
    "unique = [num for num in list3 if list3[num] == 1]\n",
    "print(unique)\n",
    "\n",
    "\n",
    "\n"
   ]
  },
  {
   "cell_type": "code",
   "execution_count": 54,
   "metadata": {},
   "outputs": [
    {
     "name": "stdout",
     "output_type": "stream",
     "text": [
      "[1, 9, 4, 3]\n"
     ]
    }
   ],
   "source": [
    "#Сформировать третий список, содержащий только минимальное и максимальное значение каждого из списков.\n",
    "list1 = [ 1, 3, 6, 4, 9]\n",
    "list2 = [ 4, 2, 8, 7, 3] \n",
    "\n",
    "list3 = [list1[0], list1[-1], list2[0], list2[-1]]\n",
    "print(list3)\n"
   ]
  }
 ],
 "metadata": {
  "kernelspec": {
   "display_name": "Python 3",
   "language": "python",
   "name": "python3"
  },
  "language_info": {
   "codemirror_mode": {
    "name": "ipython",
    "version": 3
   },
   "file_extension": ".py",
   "mimetype": "text/x-python",
   "name": "python",
   "nbconvert_exporter": "python",
   "pygments_lexer": "ipython3",
   "version": "3.12.7"
  }
 },
 "nbformat": 4,
 "nbformat_minor": 2
}
