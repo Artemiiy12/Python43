{
 "cells": [
  {
   "cell_type": "code",
   "execution_count": null,
   "metadata": {},
   "outputs": [
    {
     "name": "stdout",
     "output_type": "stream",
     "text": [
      "Элементы, которые есть во всех кортежах (4, 5)\n"
     ]
    }
   ],
   "source": [
    "# Есть три кортежа целых чисел необходимо найти\n",
    "# элементы, которые есть во всех кортежах.\n",
    "\n",
    "a = (1, 2, 3, 4, 5)\n",
    "a2 = (3, 4, 5, 6, 7)\n",
    "a3 = (4, 5, 8, 9)\n",
    "elements = set(a) & set(a2) & set(a3)\n",
    "\n",
    "result = tuple(elements)\n",
    "print(\"Элементы, которые есть во всех кортежах\", result)"
   ]
  },
  {
   "cell_type": "code",
   "execution_count": 32,
   "metadata": {},
   "outputs": [
    {
     "name": "stdout",
     "output_type": "stream",
     "text": [
      "[5, 6, 7]\n"
     ]
    }
   ],
   "source": [
    "# Есть три кортежа целых чисел необходимо найти\n",
    "# элементы, которые уникальны для каждого списка.\n",
    "\n",
    "a = (1, 2, 3, 3, 2, 7)\n",
    "b = (1, 2, 1, 3, 4, 2)\n",
    "c = (1, 5, 1, 3, 3, 6, 4, 2)\n",
    "\n",
    "def uniq(*numbers):\n",
    "    set1 = set()\n",
    "    set2 = set()\n",
    "    all_numbers = [number for i in numbers for number in i]\n",
    "    \n",
    "    for number in all_numbers:\n",
    "        if number not in set1:\n",
    "            set1.add(number)\n",
    "        else:\n",
    "            set2.add(number)\n",
    "    \n",
    "    return [number for number in set1 if number not in set2]\n",
    "\n",
    "print(uniq(a, b, c))"
   ]
  },
  {
   "cell_type": "code",
   "execution_count": null,
   "metadata": {},
   "outputs": [
    {
     "ename": "SyntaxError",
     "evalue": "expected ':' (1943885411.py, line 12)",
     "output_type": "error",
     "traceback": [
      "\u001b[1;36m  Cell \u001b[1;32mIn[3], line 12\u001b[1;36m\u001b[0m\n\u001b[1;33m    if a[i]\u001b[0m\n\u001b[1;37m           ^\u001b[0m\n\u001b[1;31mSyntaxError\u001b[0m\u001b[1;31m:\u001b[0m expected ':'\n"
     ]
    }
   ],
   "source": [
    "# Есть три кортежа целых чисел необходимо найти элементы, которые есть в каждом из кортежей и находятся\n",
    "# в каждом из кортежей на той же позиции.\n",
    "\n",
    "a = (1, 2, 3, 4, 5)\n",
    "b = (1, 2, 0, 4, 5)\n",
    "c = (1, 0, 3, 4, 5)\n",
    "\n",
    "elements = []\n",
    "length = min(len(a), len(b), len(c))\n",
    "\n",
    "for i in range(length):\n",
    "    if a[i] == b[i] == c[i]:\n",
    "        elements.append(a[i])\n",
    "print(\"Элементы, которые находятся на одной и той же позиции\",elements)"
   ]
  }
 ],
 "metadata": {
  "kernelspec": {
   "display_name": "Python 3",
   "language": "python",
   "name": "python3"
  },
  "language_info": {
   "codemirror_mode": {
    "name": "ipython",
    "version": 3
   },
   "file_extension": ".py",
   "mimetype": "text/x-python",
   "name": "python",
   "nbconvert_exporter": "python",
   "pygments_lexer": "ipython3",
   "version": "3.12.6"
  }
 },
 "nbformat": 4,
 "nbformat_minor": 2
}
