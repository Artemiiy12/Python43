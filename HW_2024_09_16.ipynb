{
 "cells": [
  {
   "cell_type": "markdown",
   "metadata": {},
   "source": [
    "### Выполните все задания"
   ]
  },
  {
   "cell_type": "markdown",
   "metadata": {},
   "source": [
    "**1. Переменные и типы данных:**\n",
    "\n",
    "   * Создайте переменную `name` и присвойте ей ваше имя в виде строки.\n",
    "   * Создайте переменную `age` и присвойте ей ваш возраст в виде целого числа.\n",
    "   * Создайте переменную `is_student` и присвойте ей значение `True`, если вы студент (не Академии ТОР, а вуза), и `False` в противном случае.\n",
    "   * Выведите на экран значения всех трех переменных, используя функцию `print()`.\n",
    "   * Измените значение переменной `age` на новое число и снова выведите ее на экран."
   ]
  },
  {
   "cell_type": "code",
   "execution_count": 33,
   "metadata": {},
   "outputs": [
    {
     "name": "stdout",
     "output_type": "stream",
     "text": [
      "dlsd 26 False\n",
      "16\n"
     ]
    }
   ],
   "source": [
    "name = input('Введите имя:')\n",
    "age = input(\"Введитие возраст\")\n",
    "is_student = False\n",
    "print(name,age,is_student)\n",
    "age = ('16')\n",
    "print(age)"
   ]
  },
  {
   "cell_type": "markdown",
   "metadata": {},
   "source": [
    "**2. Математические операции:**\n",
    "\n",
    "   * Создайте переменные `a` и `b` и присвойте им значения 5 и 10 соответственно.\n",
    "   * Вычислите сумму, разность, произведение и частное от деления переменных `a` и `b`.\n",
    "   * Используйте оператор модуля (%), чтобы найти остаток от деления `b` на `a`.\n",
    "   * Выведите на экран результаты всех операций."
   ]
  },
  {
   "cell_type": "code",
   "execution_count": 32,
   "metadata": {},
   "outputs": [
    {
     "name": "stdout",
     "output_type": "stream",
     "text": [
      "15 -5 50 0.5 0\n"
     ]
    }
   ],
   "source": [
    "a = 5\n",
    "b = 10\n",
    "sum = a + b\n",
    "dif = a - b\n",
    "proiz = a * b\n",
    "chast = a/b\n",
    "ost = b % a\n",
    "\n",
    "print(sum,dif,proiz,chast,ost)"
   ]
  },
  {
   "cell_type": "markdown",
   "metadata": {},
   "source": [
    "**3. Строковые операции:**\n",
    "\n",
    "   * Создайте переменную `message` и присвойте ей строку \"Привет, мир!\".\n",
    "   * Используйте метод `upper()` для преобразования строки в верхний регистр.\n",
    "   * Используйте метод `lower()` для преобразования строки в нижний регистр.\n",
    "   * Используйте метод `replace()` для замены слова \"мир\" на \"вселенная\" в строке.\n",
    "   * Выведите на экран все полученные результаты."
   ]
  },
  {
   "cell_type": "code",
   "execution_count": 31,
   "metadata": {},
   "outputs": [
    {
     "name": "stdout",
     "output_type": "stream",
     "text": [
      "ПРИВЕТ,МИР! привет,мир! Привет,Вселеная!\n"
     ]
    }
   ],
   "source": [
    "message = 'Привет,мир!'\n",
    "up = message.upper()\n",
    "lo = message.lower()\n",
    "rep = message.replace('мир','Вселеная')\n",
    "print(up,lo,rep)"
   ]
  },
  {
   "cell_type": "markdown",
   "metadata": {},
   "source": [
    "**4. Ввод и вывод:**\n",
    "\n",
    "   * Используйте функцию `input()` для получения имени пользователя с клавиатуры.\n",
    "   * Сохраните введенное имя в переменную `username`.\n",
    "   * Используйте функцию `print()` для вывода приветствия пользователю, используя его имя.\n",
    "   * Например, если пользователь введет \"Иван\", вы должны вывести \"Привет, Иван!\"."
   ]
  },
  {
   "cell_type": "code",
   "execution_count": 30,
   "metadata": {},
   "outputs": [
    {
     "name": "stdout",
     "output_type": "stream",
     "text": [
      "Привет, ss\n"
     ]
    }
   ],
   "source": [
    "username = input('Введите ваше имя:')\n",
    "print('Привет,',username)\n"
   ]
  },
  {
   "cell_type": "markdown",
   "metadata": {},
   "source": [
    "**5. Дополнительные задания:**\n",
    "\n",
    "   * Создайте список с различными типами данных (например, строка, целое число, список, словарь).\n",
    "   * Добавьте в список новый элемент.\n",
    "   * Удалите элемент из списка.\n",
    "   * Измените значение элемента в списке.\n",
    "   * Предложите пользователю ввести что-то и пусть его ввод добавится в конец списка\n",
    "   * Выведите на экран содержимое списка."
   ]
  },
  {
   "cell_type": "code",
   "execution_count": 34,
   "metadata": {},
   "outputs": [
    {
     "name": "stdout",
     "output_type": "stream",
     "text": [
      "['srfrf', 654, 234423, 'sdfsdf']\n"
     ]
    }
   ],
   "source": [
    "\n",
    "list = [\n",
    "        'srfrf',\n",
    "        654,\n",
    "        [1,'dff'],\n",
    "        {'key': 654}\n",
    "        ]\n",
    "\n",
    "list.append('sdfsdf')\n",
    "list.pop(2)\n",
    "list[2] = 234423\n",
    "print(list) "
   ]
  },
  {
   "cell_type": "markdown",
   "metadata": {},
   "source": [
    "#### Выполненную тетрадку загрузить на свой гитхаб в папку \"HW_2024_09_16\" и скинуть мне ссылку на нее."
   ]
  }
 ],
 "metadata": {
  "kernelspec": {
   "display_name": "Python 3",
   "language": "python",
   "name": "python3"
  },
  "language_info": {
   "codemirror_mode": {
    "name": "ipython",
    "version": 3
   },
   "file_extension": ".py",
   "mimetype": "text/x-python",
   "name": "python",
   "nbconvert_exporter": "python",
   "pygments_lexer": "ipython3",
   "version": "3.12.6"
  },
  "vscode": {
   "interpreter": {
    "hash": "82f2b0eba25df7a877b7110501bcbf4000ac92633ae5baee74c62655806612a5"
   }
  }
 },
 "nbformat": 4,
 "nbformat_minor": 2
}
