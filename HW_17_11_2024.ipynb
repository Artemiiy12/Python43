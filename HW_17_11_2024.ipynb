{
 "cells": [
  {
   "cell_type": "code",
   "execution_count": 9,
   "metadata": {},
   "outputs": [
    {
     "name": "stdout",
     "output_type": "stream",
     "text": [
      "[-10, 4, 10, -8, -5, -10, 7, 4, 11, 9, 1]\n",
      "[-10, -10, -8, -5, 4, 10, 1, 9, 11, 4, 7]\n"
     ]
    }
   ],
   "source": [
    "# Необходимо отсортировать первые две трети списка\n",
    "# в порядке возрастания, если среднее арифметическое\n",
    "# всех элементов больше нуля; иначе—лишь первую треть.\n",
    "# Остальную часть списка не сортировать, а расположить\n",
    "# в обратном порядке.\n",
    "\n",
    "from random import randint\n",
    "\n",
    "def fun(lst, n):\n",
    "    return sorted(lst[:n]) + lst[n:][::-1]\n",
    "    \n",
    "a = [randint(-10,11) for _ in range(11)]\n",
    "m = len(a)\n",
    "k = m//3 + (m==0)\n",
    "print(a)\n",
    "res = fun(a, (1 + (sum(a)/k > 0))*k)\n",
    "print(res)"
   ]
  },
  {
   "cell_type": "code",
   "execution_count": 10,
   "metadata": {},
   "outputs": [
    {
     "name": "stdout",
     "output_type": "stream",
     "text": [
      "\n",
      "Меню:\n",
      "1. Вывод оценок\n",
      "2. Пересдача экзамена\n",
      "3. Выходит ли стипендия\n",
      "4. Вывод отсортированных оценок\n",
      "5. Выход\n",
      "[11, 1, 11, 5, 10, 5, 8, 3, 5, 5, 9, 7]\n",
      "Без стипендии сегодня\n",
      "[2, 3, 5, 5, 5, 5, 7, 8, 9, 10, 11, 11]\n"
     ]
    }
   ],
   "source": [
    "# Написать программу «успеваемость». Пользователь\n",
    "# вводит 10 оценок студента. Оценки от 1 до 12. Реализовать\n",
    "# меню для пользователя:\n",
    "# ■ Вывод оценок (вывод содержимого списка);\n",
    "# ■ Пересдача экзамена (пользователь вводит номер эле-\n",
    "# мента списка и новую оценку);\n",
    "# ■ Выходит ли стипендия (стипендия выходит, если\n",
    "# средний бал не ниже 10.7);\n",
    "# ■ Вывод отсортированного списка оценок: по возрас-\n",
    "# танию или убыванию.\n",
    "\n",
    "\n",
    "import random \n",
    "lst1  = [randint(1, 11) for _ in range(1,13)]\n",
    "def func(lst):\n",
    "    print(\"\\nМеню:\")\n",
    "    print(\"1. Вывод оценок\")\n",
    "    print(\"2. Пересдача экзамена\")\n",
    "    print(\"3. Выходит ли стипендия\")\n",
    "    print(\"4. Вывод отсортированных оценок\")\n",
    "    print(\"5. Выход\")\n",
    "    while True:\n",
    "\n",
    "        menu = input('Введите 1-5:')\n",
    "        if menu == '1':\n",
    "            print(lst)\n",
    "\n",
    "        elif menu == \"2\":\n",
    "            index_user = int(input())\n",
    "            value_user = int(input())\n",
    "            lst[index_user] = value_user\n",
    "\n",
    "        elif menu == '3':\n",
    "            mean = sum(lst) / len(lst) \n",
    "\n",
    "            if mean < 10.7: \n",
    "                print('Без стипендии сегодня')\n",
    "\n",
    "            elif mean > 10.7:\n",
    "                print('Ваша степендия')\n",
    "        elif menu == '4':\n",
    "            lst = sorted(lst)\n",
    "            print(lst)\n",
    "\n",
    "        elif menu == '5':\n",
    "            break\n",
    "\n",
    "        else:\n",
    "            print('Вы ввели не то')\n",
    "func(lst1)"
   ]
  },
  {
   "cell_type": "code",
   "execution_count": 11,
   "metadata": {},
   "outputs": [
    {
     "name": "stdout",
     "output_type": "stream",
     "text": [
      "Исходный список: [64, 34, 25, 12, 22, 11, 90]\n",
      "Отсортированный список: [11, 12, 22, 25, 34, 64, 90]\n"
     ]
    }
   ],
   "source": [
    "# Написать программу, реализующую сортировку списка\n",
    "# методом усовершенствованной сортировки пузырьковым\n",
    "# методом. Усовершенствование состоит в том, чтобы ана-\n",
    "# лизировать количество перестановок на каждом шагу, если\n",
    "# это количество равно нулю, то продолжать сортировку\n",
    "# нет смысла — список отсортирован.\n",
    "\n",
    "def bubble_sort_improved(arr):\n",
    "    n = len(arr)\n",
    "    \n",
    "    for i in range(n):\n",
    "        \n",
    "        swapped = False\n",
    "        \n",
    "        for j in range(0, n - i - 1):\n",
    "            \n",
    "            if arr[j] > arr[j + 1]:\n",
    "                arr[j], arr[j + 1] = arr[j + 1], arr[j]\n",
    "                swapped = True\n",
    "        \n",
    "        if not swapped:\n",
    "            break\n",
    "\n",
    "if __name__ == \"__main__\":\n",
    "    \n",
    "    example_list = [64, 34, 25, 12, 22, 11, 90]\n",
    "    print(\"Исходный список:\", example_list)\n",
    "    \n",
    "    bubble_sort_improved(example_list)\n",
    "    print(\"Отсортированный список:\", example_list)"
   ]
  }
 ],
 "metadata": {
  "kernelspec": {
   "display_name": "Python 3",
   "language": "python",
   "name": "python3"
  },
  "language_info": {
   "codemirror_mode": {
    "name": "ipython",
    "version": 3
   },
   "file_extension": ".py",
   "mimetype": "text/x-python",
   "name": "python",
   "nbconvert_exporter": "python",
   "pygments_lexer": "ipython3",
   "version": "3.12.6"
  }
 },
 "nbformat": 4,
 "nbformat_minor": 2
}
